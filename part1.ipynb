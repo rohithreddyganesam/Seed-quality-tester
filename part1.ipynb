{
 "cells": [
  {
   "cell_type": "code",
   "execution_count": 16,
   "id": "7aaaa2c0",
   "metadata": {},
   "outputs": [],
   "source": [
    "import tensorflow as tf\n",
    "import matplotlib.pyplot as plt\n",
    "import pandas as pd\n",
    "import seaborn as sns\n",
    "import keras\n",
    "from tensorflow.keras.utils import image_dataset_from_directory\n",
    "from tensorflow.keras.layers import Dense,Conv2D,MaxPool2D\n",
    "from tensorflow.keras.models import Sequential\n",
    "from keras.layers import Flatten\n",
    "import tensorflow as tf\n",
    "from sklearn.metrics import classification_report,confusion_matrix\n"
   ]
  },
  {
   "cell_type": "code",
   "execution_count": 17,
   "id": "b043de77",
   "metadata": {},
   "outputs": [
    {
     "name": "stdout",
     "output_type": "stream",
     "text": [
      "Found 2500 files belonging to 5 classes.\n"
     ]
    }
   ],
   "source": [
    "training_set = tf.keras.utils.image_dataset_from_directory(\n",
    "    'training_set',\n",
    "    labels=\"inferred\",\n",
    "    label_mode=\"categorical\",\n",
    "    class_names=None,\n",
    "    color_mode=\"rgb\",\n",
    "    batch_size=32,\n",
    "    image_size=(128, 128),\n",
    "    shuffle=True,\n",
    "    seed=None,\n",
    "    validation_split=None,\n",
    "    subset=None,\n",
    "    interpolation=\"bilinear\",\n",
    "    follow_links=False,\n",
    "    crop_to_aspect_ratio=False,\n",
    ")"
   ]
  },
  {
   "cell_type": "code",
   "execution_count": 18,
   "id": "64d9086a",
   "metadata": {},
   "outputs": [
    {
     "name": "stdout",
     "output_type": "stream",
     "text": [
      "Found 2500 files belonging to 5 classes.\n"
     ]
    }
   ],
   "source": [
    "validation_set = tf.keras.utils.image_dataset_from_directory(\n",
    "    'training_set2',\n",
    "    labels=\"inferred\",\n",
    "    label_mode=\"categorical\",\n",
    "    class_names=None,\n",
    "    color_mode=\"rgb\",\n",
    "    batch_size=32,\n",
    "    image_size=(128, 128),\n",
    "    shuffle=True,\n",
    "    seed=None,\n",
    "    validation_split=None,\n",
    "    subset=None,\n",
    "    interpolation=\"bilinear\",\n",
    "    follow_links=False,\n",
    "    crop_to_aspect_ratio=False,\n",
    ")"
   ]
  },
  {
   "cell_type": "code",
   "execution_count": 19,
   "id": "f41dedfb",
   "metadata": {},
   "outputs": [
    {
     "data": {
      "text/plain": [
       "<BatchDataset element_spec=(TensorSpec(shape=(None, 128, 128, 3), dtype=tf.float32, name=None), TensorSpec(shape=(None, 5), dtype=tf.float32, name=None))>"
      ]
     },
     "execution_count": 19,
     "metadata": {},
     "output_type": "execute_result"
    }
   ],
   "source": [
    "training_set"
   ]
  },
  {
   "cell_type": "code",
   "execution_count": 20,
   "id": "4b6172a0",
   "metadata": {},
   "outputs": [
    {
     "name": "stdout",
     "output_type": "stream",
     "text": [
      "tf.Tensor(\n",
      "[[[[242.125       44.125      121.125     ]\n",
      "   [248.36328     47.36328    127.23828   ]\n",
      "   [238.0586      46.726562   119.28516   ]\n",
      "   ...\n",
      "   [219.51953      6.8125      63.398438  ]\n",
      "   [220.28906      9.1640625   64.22656   ]\n",
      "   [227.0039      15.246094    64.890625  ]]\n",
      "\n",
      "  [[247.08984     50.277344   129.08984   ]\n",
      "   [237.9375      34.9375     113.9375    ]\n",
      "   [240.125       42.8125     121.1875    ]\n",
      "   ...\n",
      "   [219.57422     12.574219    66.57422   ]\n",
      "   [222.30469      9.3046875   57.304688  ]\n",
      "   [222.17578     12.175781    57.30078   ]]\n",
      "\n",
      "  [[245.60547     49.648438   121.5625    ]\n",
      "   [246.57031     49.945312   124.25781   ]\n",
      "   [233.30078     30.925781   112.30078   ]\n",
      "   ...\n",
      "   [224.3125      15.375       65.90234   ]\n",
      "   [224.91016     13.597656    64.59766   ]\n",
      "   [223.03906     11.0390625   62.039062  ]]\n",
      "\n",
      "  ...\n",
      "\n",
      "  [[253.4414      53.410156   134.0586    ]\n",
      "   [231.66797     29.980469   106.60547   ]\n",
      "   [255.          61.445312   140.54297   ]\n",
      "   ...\n",
      "   [226.97656      6.171875    59.69922   ]\n",
      "   [242.48828     22.863281    76.86328   ]\n",
      "   [231.64062     16.519531    65.22656   ]]\n",
      "\n",
      "  [[255.          55.285156   131.28516   ]\n",
      "   [253.22266     56.375      128.375     ]\n",
      "   [253.19531     61.40625    137.40625   ]\n",
      "   ...\n",
      "   [228.44531     10.4453125   61.070312  ]\n",
      "   [229.60547     11.605469    61.60547   ]\n",
      "   [224.11328      7.2382812   52.17578   ]]\n",
      "\n",
      "  [[255.          57.117188   137.9961    ]\n",
      "   [236.8086      30.808594   113.80859   ]\n",
      "   [254.35547     49.5625     124.75      ]\n",
      "   ...\n",
      "   [222.35547      4.4414062   53.023438  ]\n",
      "   [225.9375      12.9375      58.960938  ]\n",
      "   [217.76172      3.8867188   54.82422   ]]]\n",
      "\n",
      "\n",
      " [[[227.24219     39.304688   113.11719   ]\n",
      "   [239.27344     49.273438   119.27344   ]\n",
      "   [227.9961      40.95703    109.25      ]\n",
      "   ...\n",
      "   [207.33984     15.652344    57.277344  ]\n",
      "   [200.0625       7.125       54.125     ]\n",
      "   [200.99219     13.816406    58.875     ]]\n",
      "\n",
      "  [[217.53516     32.535156   100.47266   ]\n",
      "   [229.98828     42.98828    113.98828   ]\n",
      "   [222.92969     39.929688   105.30469   ]\n",
      "   ...\n",
      "   [202.9336      12.558594    52.621094  ]\n",
      "   [197.1875      10.1875      53.1875    ]\n",
      "   [204.67578     15.863281    57.80078   ]]\n",
      "\n",
      "  [[235.5586      48.558594   116.60156   ]\n",
      "   [228.45703     39.83203    113.83203   ]\n",
      "   [217.99219     31.851562   101.5625    ]\n",
      "   ...\n",
      "   [199.78516     15.214844    56.        ]\n",
      "   [205.0664      15.441406    57.128906  ]\n",
      "   [199.10156     12.1640625   53.476562  ]]\n",
      "\n",
      "  ...\n",
      "\n",
      "  [[235.41406     40.058594   110.76953   ]\n",
      "   [231.36719     44.367188   113.23828   ]\n",
      "   [232.80469     46.492188   118.86719   ]\n",
      "   ...\n",
      "   [220.82812     30.828125    66.828125  ]\n",
      "   [205.61719     12.6796875   51.992188  ]\n",
      "   [210.6875      16.042969    54.976562  ]]\n",
      "\n",
      "  [[235.78125     48.78125    117.78125   ]\n",
      "   [229.44531     39.445312   109.44531   ]\n",
      "   [238.80469     46.804688   120.42969   ]\n",
      "   ...\n",
      "   [209.30469     12.3671875   51.679688  ]\n",
      "   [200.22266     10.222656    44.222656  ]\n",
      "   [208.           9.          50.        ]]\n",
      "\n",
      "  [[233.73438     40.097656   110.03906   ]\n",
      "   [243.17188     51.171875   126.046875  ]\n",
      "   [234.1211      43.410156   117.765625  ]\n",
      "   ...\n",
      "   [201.20703      7.1445312   46.83203   ]\n",
      "   [205.875       10.          47.9375    ]\n",
      "   [204.38281      5.3828125   44.382812  ]]]\n",
      "\n",
      "\n",
      " [[[221.1914      43.828125   114.19141   ]\n",
      "   [215.07422     29.074219   100.07422   ]\n",
      "   [234.52344     46.128906   125.19141   ]\n",
      "   ...\n",
      "   [218.2461      20.539062    68.74609   ]\n",
      "   [205.16406      7.1640625   60.039062  ]\n",
      "   [226.6914      25.566406    79.69141   ]]\n",
      "\n",
      "  [[232.27344     44.085938   121.08594   ]\n",
      "   [219.25        27.25       102.25      ]\n",
      "   [225.4375      38.0625     114.4375    ]\n",
      "   ...\n",
      "   [211.67969     15.6796875   65.67969   ]\n",
      "   [213.625       15.625       64.625     ]\n",
      "   [223.38672     24.386719    79.38672   ]]\n",
      "\n",
      "  [[237.38672     49.472656   126.07422   ]\n",
      "   [223.23047     34.48047    108.85547   ]\n",
      "   [235.23438     43.546875   119.60156   ]\n",
      "   ...\n",
      "   [212.09766     10.097656    58.527344  ]\n",
      "   [206.9414       9.316406    53.691406  ]\n",
      "   [213.77344     15.191406    63.4375    ]]\n",
      "\n",
      "  ...\n",
      "\n",
      "  [[232.02344     36.023438   111.984375  ]\n",
      "   [231.33203     35.64453    111.64453   ]\n",
      "   [235.79297     44.10547    120.67578   ]\n",
      "   ...\n",
      "   [176.4414       1.0546875   28.679688  ]\n",
      "   [176.26172      2.2617188   27.886719  ]\n",
      "   [182.6914       3.6914062   33.671875  ]]\n",
      "\n",
      "  [[242.22266     44.035156   121.09766   ]\n",
      "   [233.50781     37.507812   111.50781   ]\n",
      "   [226.05469     23.054688   102.67969   ]\n",
      "   ...\n",
      "   [179.5586       7.5585938   33.558594  ]\n",
      "   [181.           4.          30.        ]\n",
      "   [184.           5.          34.        ]]\n",
      "\n",
      "  [[223.3711      25.183594   104.12109   ]\n",
      "   [235.77344     37.773438   114.77344   ]\n",
      "   [229.75781     24.945312   101.88281   ]\n",
      "   ...\n",
      "   [169.60547      0.29296875  24.230469  ]\n",
      "   [179.69922      1.6992188   25.824219  ]\n",
      "   [186.0586       6.0546875   35.0625    ]]]\n",
      "\n",
      "\n",
      " ...\n",
      "\n",
      "\n",
      " [[[235.3164      44.378906   121.19141   ]\n",
      "   [228.14844     36.148438   113.14844   ]\n",
      "   [228.1211      35.746094   115.80859   ]\n",
      "   ...\n",
      "   [225.91797     20.917969    77.89844   ]\n",
      "   [219.02734     12.027344    66.02734   ]\n",
      "   [219.13281     15.886719    63.128906  ]]\n",
      "\n",
      "  [[239.58594     48.773438   126.71094   ]\n",
      "   [238.16406     50.164062   126.16406   ]\n",
      "   [237.55469     44.554688   123.55469   ]\n",
      "   ...\n",
      "   [212.97656      8.214844    64.71875   ]\n",
      "   [220.67969     16.679688    69.67969   ]\n",
      "   [213.57422      9.574219    62.44922   ]]\n",
      "\n",
      "  [[232.01953     41.01953    118.33203   ]\n",
      "   [240.1836      49.183594   126.49609   ]\n",
      "   [232.08594     38.67578    117.24609   ]\n",
      "   ...\n",
      "   [221.1875      17.125       75.38281   ]\n",
      "   [219.39062     17.390625    67.390625  ]\n",
      "   [221.14844     22.148438    77.14844   ]]\n",
      "\n",
      "  ...\n",
      "\n",
      "  [[248.70703     43.64453    125.64453   ]\n",
      "   [240.57812     37.578125   117.203125  ]\n",
      "   [246.83203     43.679688   121.26172   ]\n",
      "   ...\n",
      "   [179.21484      0.          28.257812  ]\n",
      "   [179.57031      1.375       28.195312  ]\n",
      "   [189.1875       4.2265625   36.20703   ]]\n",
      "\n",
      "  [[241.55078     36.55078    115.55078   ]\n",
      "   [233.91797     28.917969   105.91797   ]\n",
      "   [237.9336      31.558594   110.62109   ]\n",
      "   ...\n",
      "   [183.1875       3.1875      31.5625    ]\n",
      "   [184.5625       4.5625      33.5625    ]\n",
      "   [192.875        5.875       36.875     ]]\n",
      "\n",
      "  [[251.01172     46.01172    123.01172   ]\n",
      "   [225.84766     19.910156    94.91016   ]\n",
      "   [239.375       35.664062   114.66406   ]\n",
      "   ...\n",
      "   [189.6914       5.3164062   37.003906  ]\n",
      "   [191.25         4.25        35.25      ]\n",
      "   [188.0625       1.0625      32.0625    ]]]\n",
      "\n",
      "\n",
      " [[[233.35547     45.53125    104.47266   ]\n",
      "   [234.5         41.5        106.375     ]\n",
      "   [237.09766     43.097656   106.09766   ]\n",
      "   ...\n",
      "   [208.14844     12.1484375   50.148438  ]\n",
      "   [206.27344     10.2734375   50.148438  ]\n",
      "   [212.89844     13.652344    52.890625  ]]\n",
      "\n",
      "  [[228.125       35.125       98.125     ]\n",
      "   [228.32031     35.320312    98.32031   ]\n",
      "   [239.38281     45.382812   108.38281   ]\n",
      "   ...\n",
      "   [210.5625      11.1875      47.1875    ]\n",
      "   [215.85938     19.859375    57.859375  ]\n",
      "   [212.66016      9.375       46.13672   ]]\n",
      "\n",
      "  [[228.1875      35.1875      98.1875    ]\n",
      "   [228.44531     39.015625    98.26172   ]\n",
      "   [230.32812     40.85547     99.80078   ]\n",
      "   ...\n",
      "   [218.09375     25.019531    63.609375  ]\n",
      "   [218.6875      20.6875      56.6875    ]\n",
      "   [209.29297     12.2265625   50.621094  ]]\n",
      "\n",
      "  ...\n",
      "\n",
      "  [[240.5         51.558594   118.91406   ]\n",
      "   [242.2539      53.683594   116.74609   ]\n",
      "   [242.67969     51.3125     113.19531   ]\n",
      "   ...\n",
      "   [199.58984     10.277344    39.652344  ]\n",
      "   [218.77734     21.777344    50.402344  ]\n",
      "   [196.73047      2.3554688   34.04297   ]]\n",
      "\n",
      "  [[235.82031     46.820312   114.82031   ]\n",
      "   [248.58203     59.617188   123.51172   ]\n",
      "   [240.1875      42.253906   107.17969   ]\n",
      "   ...\n",
      "   [197.89453      2.9570312   30.269531  ]\n",
      "   [204.50781      9.5078125   39.507812  ]\n",
      "   [204.23828      5.2382812   36.23828   ]]\n",
      "\n",
      "  [[237.4336      43.433594   113.43359   ]\n",
      "   [252.67578     58.4375     124.4375    ]\n",
      "   [242.1211      43.121094   112.12109   ]\n",
      "   ...\n",
      "   [201.45703     10.371094    41.371094  ]\n",
      "   [200.8125       7.6875      36.75      ]\n",
      "   [204.11719      9.9375      37.125     ]]]\n",
      "\n",
      "\n",
      " [[[234.30078     39.30078     99.17578   ]\n",
      "   [240.96094     46.898438   106.89844   ]\n",
      "   [233.03906     39.26953     95.39453   ]\n",
      "   ...\n",
      "   [205.89453     11.894531    45.89453   ]\n",
      "   [216.13672     18.136719    51.13672   ]\n",
      "   [216.          15.          49.125     ]]\n",
      "\n",
      "  [[235.1211      35.121094    97.12109   ]\n",
      "   [229.41016     31.410156    92.41016   ]\n",
      "   [226.17969     31.492188    91.49219   ]\n",
      "   ...\n",
      "   [205.30469     10.3046875   44.304688  ]\n",
      "   [210.25        15.25        49.25      ]\n",
      "   [212.64844     10.7734375   48.710938  ]]\n",
      "\n",
      "  [[242.08984     42.714844   104.40234   ]\n",
      "   [229.80469     34.804688    93.42969   ]\n",
      "   [230.67969     35.58203     96.20703   ]\n",
      "   ...\n",
      "   [212.14062     17.140625    50.28125   ]\n",
      "   [210.3086      13.683594    49.371094  ]\n",
      "   [212.33203     12.332031    48.33203   ]]\n",
      "\n",
      "  ...\n",
      "\n",
      "  [[253.0664      59.503906   126.859375  ]\n",
      "   [251.54297     58.54297    122.91797   ]\n",
      "   [248.17969     54.039062   121.17969   ]\n",
      "   ...\n",
      "   [181.15234      4.4648438   24.679688  ]\n",
      "   [191.39062     13.765625    34.390625  ]\n",
      "   [177.3789       4.25        24.292969  ]]\n",
      "\n",
      "  [[240.3789      41.566406   108.50391   ]\n",
      "   [243.14062     48.140625   114.140625  ]\n",
      "   [240.50781     45.507812   112.13281   ]\n",
      "   ...\n",
      "   [182.6875       6.3125      25.375     ]\n",
      "   [184.           7.          25.        ]\n",
      "   [174.30078      2.2382812   18.425781  ]]\n",
      "\n",
      "  [[235.2461      39.246094   103.24609   ]\n",
      "   [244.83984     49.839844   115.83984   ]\n",
      "   [243.97656     44.683594   109.68359   ]\n",
      "   ...\n",
      "   [188.6875       8.3125      27.351562  ]\n",
      "   [186.71094      9.7109375   27.710938  ]\n",
      "   [181.875        4.875       24.867188  ]]]], shape=(32, 128, 128, 3), dtype=float32) (32, 128, 128, 3)\n",
      "tf.Tensor(\n",
      "[[1. 0. 0. 0. 0.]\n",
      " [0. 0. 0. 1. 0.]\n",
      " [0. 1. 0. 0. 0.]\n",
      " [1. 0. 0. 0. 0.]\n",
      " [1. 0. 0. 0. 0.]\n",
      " [0. 0. 0. 0. 1.]\n",
      " [0. 1. 0. 0. 0.]\n",
      " [0. 0. 0. 1. 0.]\n",
      " [0. 0. 1. 0. 0.]\n",
      " [1. 0. 0. 0. 0.]\n",
      " [1. 0. 0. 0. 0.]\n",
      " [0. 0. 1. 0. 0.]\n",
      " [0. 1. 0. 0. 0.]\n",
      " [0. 0. 0. 1. 0.]\n",
      " [0. 1. 0. 0. 0.]\n",
      " [0. 0. 1. 0. 0.]\n",
      " [0. 0. 1. 0. 0.]\n",
      " [0. 1. 0. 0. 0.]\n",
      " [1. 0. 0. 0. 0.]\n",
      " [0. 0. 0. 0. 1.]\n",
      " [0. 0. 0. 1. 0.]\n",
      " [0. 0. 0. 1. 0.]\n",
      " [1. 0. 0. 0. 0.]\n",
      " [0. 0. 0. 1. 0.]\n",
      " [0. 0. 1. 0. 0.]\n",
      " [0. 0. 0. 1. 0.]\n",
      " [1. 0. 0. 0. 0.]\n",
      " [0. 0. 1. 0. 0.]\n",
      " [0. 1. 0. 0. 0.]\n",
      " [0. 1. 0. 0. 0.]\n",
      " [0. 1. 0. 0. 0.]\n",
      " [0. 1. 0. 0. 0.]], shape=(32, 5), dtype=float32) (32, 5)\n"
     ]
    }
   ],
   "source": [
    "for x,y in training_set:\n",
    "    print(x,x.shape)\n",
    "    print(y,y.shape)\n",
    "    break"
   ]
  },
  {
   "cell_type": "code",
   "execution_count": 21,
   "id": "222a69df",
   "metadata": {},
   "outputs": [
    {
     "data": {
      "text/plain": [
       "<BatchDataset element_spec=(TensorSpec(shape=(None, 128, 128, 3), dtype=tf.float32, name=None), TensorSpec(shape=(None, 5), dtype=tf.float32, name=None))>"
      ]
     },
     "execution_count": 21,
     "metadata": {},
     "output_type": "execute_result"
    }
   ],
   "source": [
    "validation_set"
   ]
  },
  {
   "cell_type": "code",
   "execution_count": null,
   "id": "3bb20f31",
   "metadata": {},
   "outputs": [],
   "source": []
  },
  {
   "cell_type": "code",
   "execution_count": 36,
   "id": "76655b08",
   "metadata": {},
   "outputs": [
    {
     "name": "stdout",
     "output_type": "stream",
     "text": [
      "Model: \"sequential_8\"\n",
      "_________________________________________________________________\n",
      " Layer (type)                Output Shape              Param #   \n",
      "=================================================================\n",
      " conv2d_80 (Conv2D)          (None, 128, 128, 32)      896       \n",
      "                                                                 \n",
      " conv2d_81 (Conv2D)          (None, 126, 126, 32)      9248      \n",
      "                                                                 \n",
      " max_pooling2d_40 (MaxPoolin  (None, 63, 63, 32)       0         \n",
      " g2D)                                                            \n",
      "                                                                 \n",
      " conv2d_82 (Conv2D)          (None, 63, 63, 64)        18496     \n",
      "                                                                 \n",
      " conv2d_83 (Conv2D)          (None, 61, 61, 64)        36928     \n",
      "                                                                 \n",
      " max_pooling2d_41 (MaxPoolin  (None, 30, 30, 64)       0         \n",
      " g2D)                                                            \n",
      "                                                                 \n",
      " conv2d_84 (Conv2D)          (None, 30, 30, 128)       73856     \n",
      "                                                                 \n",
      " conv2d_85 (Conv2D)          (None, 28, 28, 128)       147584    \n",
      "                                                                 \n",
      " max_pooling2d_42 (MaxPoolin  (None, 14, 14, 128)      0         \n",
      " g2D)                                                            \n",
      "                                                                 \n",
      " conv2d_86 (Conv2D)          (None, 14, 14, 256)       295168    \n",
      "                                                                 \n",
      " conv2d_87 (Conv2D)          (None, 12, 12, 256)       590080    \n",
      "                                                                 \n",
      " max_pooling2d_43 (MaxPoolin  (None, 6, 6, 256)        0         \n",
      " g2D)                                                            \n",
      "                                                                 \n",
      " conv2d_88 (Conv2D)          (None, 6, 6, 512)         1180160   \n",
      "                                                                 \n",
      " conv2d_89 (Conv2D)          (None, 4, 4, 512)         2359808   \n",
      "                                                                 \n",
      " max_pooling2d_44 (MaxPoolin  (None, 2, 2, 512)        0         \n",
      " g2D)                                                            \n",
      "                                                                 \n",
      " dropout_17 (Dropout)        (None, 2, 2, 512)         0         \n",
      "                                                                 \n",
      " flatten_8 (Flatten)         (None, 2048)              0         \n",
      "                                                                 \n",
      " dense_16 (Dense)            (None, 1800)              3688200   \n",
      "                                                                 \n",
      " dropout_18 (Dropout)        (None, 1800)              0         \n",
      "                                                                 \n",
      " dense_17 (Dense)            (None, 5)                 9005      \n",
      "                                                                 \n",
      "=================================================================\n",
      "Total params: 8,409,429\n",
      "Trainable params: 8,409,429\n",
      "Non-trainable params: 0\n",
      "_________________________________________________________________\n"
     ]
    }
   ],
   "source": [
    "from tensorflow.keras.layers import Conv2D, MaxPooling2D, Flatten, Dense,Dropout\n",
    "from tensorflow.keras.models import Sequential\n",
    "\n",
    "model = Sequential()\n",
    "\n",
    "model.add(Conv2D(filters=32, kernel_size=3, padding='same', activation='relu', input_shape=(128,128,3)))\n",
    "model.add(Conv2D(filters=32, kernel_size=3, activation='relu'))\n",
    "model.add(MaxPooling2D(pool_size=2, strides=2))\n",
    "model.add(Conv2D(filters=64, kernel_size=3, padding='same', activation='relu'))\n",
    "model.add(Conv2D(filters=64, kernel_size=3, activation='relu'))\n",
    "model.add(MaxPooling2D(pool_size=2, strides=2))\n",
    "model.add(Conv2D(filters=128, kernel_size=3, padding='same', activation='relu'))\n",
    "model.add(Conv2D(filters=128, kernel_size=3, activation='relu'))\n",
    "model.add(MaxPooling2D(pool_size=2, strides=2))\n",
    "model.add(Conv2D(filters=256, kernel_size=3, padding='same', activation='relu'))\n",
    "model.add(Conv2D(filters=256, kernel_size=3, activation='relu'))\n",
    "model.add(MaxPooling2D(pool_size=2, strides=2))\n",
    "model.add(Conv2D(filters=512, kernel_size=3, padding='same', activation='relu'))\n",
    "model.add(Conv2D(filters=512, kernel_size=3,  activation='relu'))\n",
    "model.add(MaxPooling2D(pool_size=2, strides=2))\n",
    "\n",
    "\n",
    "model.add(Dropout(0.25))\n",
    "model.add(Flatten())\n",
    "model.add(Dense(units=1800, activation='relu'))\n",
    "model.add(Dropout(0.4))\n",
    "model.add(Dense(units=5, activation='softmax'))\n",
    "\n",
    "model.compile(optimizer=tf.keras.optimizers.Adam(\n",
    "    learning_rate=0.001), loss='categorical_crossentropy', metrics=['accuracy'])\n",
    "\n",
    "model.summary()"
   ]
  },
  {
   "cell_type": "code",
   "execution_count": null,
   "id": "627e144d",
   "metadata": {},
   "outputs": [
    {
     "name": "stdout",
     "output_type": "stream",
     "text": [
      "Epoch 1/10\n",
      "79/79 [==============================] - 423s 5s/step - loss: 1.7519 - accuracy: 0.1988 - val_loss: 1.6087 - val_accuracy: 0.2000\n",
      "Epoch 2/10\n",
      "15/79 [====>.........................] - ETA: 2:18 - loss: 1.6113 - accuracy: 0.1792"
     ]
    }
   ],
   "source": [
    "trainig_history=model.fit(x=training_set,validation_data=validation_set,epochs=10)"
   ]
  },
  {
   "cell_type": "code",
   "execution_count": 24,
   "id": "1e0eefe9",
   "metadata": {},
   "outputs": [
    {
     "name": "stdout",
     "output_type": "stream",
     "text": [
      "79/79 [==============================] - 60s 710ms/step - loss: 0.3746 - accuracy: 0.8364\n"
     ]
    }
   ],
   "source": [
    "#model Evalution \n",
    "train_loss,train_acc=model.evaluate(training_set)"
   ]
  },
  {
   "cell_type": "code",
   "execution_count": 25,
   "id": "a7001450",
   "metadata": {},
   "outputs": [
    {
     "name": "stdout",
     "output_type": "stream",
     "text": [
      "0.3746410608291626 0.8363999724388123\n"
     ]
    }
   ],
   "source": [
    "print(train_loss,train_acc)"
   ]
  },
  {
   "cell_type": "code",
   "execution_count": 26,
   "id": "940df3a2",
   "metadata": {},
   "outputs": [
    {
     "name": "stdout",
     "output_type": "stream",
     "text": [
      "79/79 [==============================] - 61s 728ms/step - loss: 0.3746 - accuracy: 0.8364\n"
     ]
    }
   ],
   "source": [
    "val_loss,val_acc=model.evaluate(validation_set)"
   ]
  },
  {
   "cell_type": "code",
   "execution_count": 27,
   "id": "4d1193c0",
   "metadata": {},
   "outputs": [
    {
     "name": "stdout",
     "output_type": "stream",
     "text": [
      "0.37464115023612976 0.8363999724388123\n"
     ]
    }
   ],
   "source": [
    "print(val_loss,val_acc)"
   ]
  },
  {
   "cell_type": "code",
   "execution_count": 28,
   "id": "67cde074",
   "metadata": {},
   "outputs": [],
   "source": [
    "#saving model\n",
    "model.save(\"Part6_model.h5\")"
   ]
  },
  {
   "cell_type": "code",
   "execution_count": 29,
   "id": "fbe0a5b1",
   "metadata": {},
   "outputs": [
    {
     "data": {
      "text/plain": [
       "['Average', 'Bad', 'Excellent', 'Good', 'Worst']"
      ]
     },
     "execution_count": 29,
     "metadata": {},
     "output_type": "execute_result"
    }
   ],
   "source": [
    "### some other mertics\n",
    "class_name=validation_set.class_names\n",
    "class_name"
   ]
  },
  {
   "cell_type": "code",
   "execution_count": 30,
   "id": "7e5e52d8",
   "metadata": {},
   "outputs": [
    {
     "name": "stdout",
     "output_type": "stream",
     "text": [
      "Found 500 files belonging to 5 classes.\n"
     ]
    }
   ],
   "source": [
    "test_set=tf.keras.utils.image_dataset_from_directory(\n",
    "    'test_set2',\n",
    "    labels=\"inferred\",\n",
    "    label_mode=\"categorical\",\n",
    "    class_names=None,\n",
    "    color_mode=\"rgb\",\n",
    "    batch_size=32,\n",
    "    image_size=(128, 128),\n",
    "    shuffle=False,\n",
    "    seed=None,\n",
    "    validation_split=None,\n",
    "    subset=None,\n",
    "    interpolation=\"bilinear\",\n",
    "    follow_links=False,\n",
    "    crop_to_aspect_ratio=False,\n",
    ")"
   ]
  },
  {
   "cell_type": "code",
   "execution_count": 31,
   "id": "814bd573",
   "metadata": {},
   "outputs": [
    {
     "name": "stdout",
     "output_type": "stream",
     "text": [
      "16/16 [==============================] - 13s 735ms/step\n"
     ]
    },
    {
     "data": {
      "text/plain": [
       "(500, 5)"
      ]
     },
     "execution_count": 31,
     "metadata": {},
     "output_type": "execute_result"
    }
   ],
   "source": [
    "y_pred=model.predict(test_set)\n",
    "y_pred.shape"
   ]
  },
  {
   "cell_type": "code",
   "execution_count": 32,
   "id": "97185978",
   "metadata": {},
   "outputs": [
    {
     "data": {
      "text/plain": [
       "<tf.Tensor: shape=(500,), dtype=int64, numpy=\n",
       "array([0, 0, 0, 0, 0, 0, 0, 0, 0, 0, 0, 0, 0, 0, 0, 0, 0, 0, 0, 0, 0, 0,\n",
       "       0, 0, 0, 0, 0, 0, 0, 0, 0, 0, 0, 0, 0, 0, 0, 0, 0, 4, 0, 0, 0, 0,\n",
       "       0, 0, 0, 0, 0, 1, 0, 0, 0, 0, 0, 0, 0, 3, 0, 1, 0, 0, 0, 0, 0, 0,\n",
       "       0, 0, 0, 0, 0, 0, 0, 0, 0, 3, 0, 3, 0, 0, 0, 1, 0, 4, 2, 1, 0, 1,\n",
       "       4, 0, 4, 0, 0, 0, 0, 0, 0, 3, 0, 2, 4, 1, 4, 4, 4, 4, 1, 4, 4, 1,\n",
       "       1, 4, 4, 1, 4, 1, 1, 3, 1, 1, 1, 4, 1, 1, 1, 1, 4, 1, 1, 1, 1, 1,\n",
       "       1, 1, 1, 4, 4, 4, 4, 4, 4, 4, 1, 1, 1, 1, 1, 4, 1, 4, 4, 1, 4, 1,\n",
       "       4, 1, 4, 1, 4, 4, 4, 1, 4, 4, 4, 4, 4, 4, 4, 4, 4, 4, 4, 4, 1, 4,\n",
       "       1, 4, 4, 1, 1, 4, 4, 4, 4, 1, 4, 4, 4, 1, 4, 4, 4, 4, 4, 4, 4, 4,\n",
       "       4, 4, 3, 3, 3, 3, 3, 3, 2, 3, 3, 3, 3, 3, 3, 3, 2, 3, 3, 3, 3, 3,\n",
       "       3, 3, 2, 3, 3, 0, 2, 0, 2, 3, 3, 3, 3, 0, 3, 3, 3, 2, 3, 3, 0, 3,\n",
       "       3, 3, 3, 3, 3, 3, 3, 3, 2, 2, 3, 3, 3, 3, 3, 2, 3, 3, 3, 3, 3, 3,\n",
       "       3, 2, 3, 3, 3, 3, 3, 3, 2, 3, 3, 3, 3, 3, 3, 3, 0, 3, 3, 3, 3, 2,\n",
       "       3, 3, 3, 3, 3, 3, 3, 3, 3, 0, 3, 3, 3, 3, 3, 3, 0, 0, 0, 3, 0, 3,\n",
       "       3, 3, 3, 3, 3, 3, 3, 3, 3, 3, 3, 0, 3, 3, 3, 0, 0, 3, 3, 0, 0, 0,\n",
       "       3, 3, 0, 3, 0, 3, 0, 0, 3, 3, 0, 3, 3, 3, 3, 0, 3, 0, 0, 0, 3, 3,\n",
       "       3, 3, 3, 3, 3, 3, 3, 3, 3, 3, 3, 3, 3, 0, 0, 0, 0, 0, 0, 0, 0, 3,\n",
       "       3, 0, 0, 3, 3, 3, 3, 3, 3, 3, 3, 3, 3, 3, 3, 0, 3, 3, 3, 0, 0, 3,\n",
       "       3, 3, 0, 3, 4, 4, 4, 4, 4, 4, 4, 4, 4, 4, 4, 4, 4, 4, 4, 4, 4, 4,\n",
       "       4, 4, 4, 4, 4, 4, 4, 4, 4, 4, 4, 1, 4, 4, 4, 4, 4, 4, 4, 4, 4, 4,\n",
       "       4, 4, 4, 4, 4, 4, 4, 4, 1, 4, 4, 4, 4, 4, 4, 4, 4, 4, 4, 4, 4, 4,\n",
       "       4, 4, 4, 4, 4, 4, 4, 4, 4, 4, 4, 4, 4, 4, 4, 4, 4, 4, 4, 4, 4, 4,\n",
       "       4, 4, 4, 4, 4, 4, 4, 4, 4, 4, 4, 4, 4, 4, 4, 4], dtype=int64)>"
      ]
     },
     "execution_count": 32,
     "metadata": {},
     "output_type": "execute_result"
    }
   ],
   "source": [
    "predicted_categories=tf.argmax(y_pred,axis=1)\n",
    "predicted_categories"
   ]
  },
  {
   "cell_type": "code",
   "execution_count": 33,
   "id": "23ccd132",
   "metadata": {},
   "outputs": [
    {
     "data": {
      "text/plain": [
       "<tf.Tensor: shape=(500, 5), dtype=float32, numpy=\n",
       "array([[1., 0., 0., 0., 0.],\n",
       "       [1., 0., 0., 0., 0.],\n",
       "       [1., 0., 0., 0., 0.],\n",
       "       ...,\n",
       "       [0., 0., 0., 0., 1.],\n",
       "       [0., 0., 0., 0., 1.],\n",
       "       [0., 0., 0., 0., 1.]], dtype=float32)>"
      ]
     },
     "execution_count": 33,
     "metadata": {},
     "output_type": "execute_result"
    }
   ],
   "source": [
    "true_categories=tf.concat([y for x,y in test_set],axis=0)\n",
    "true_categories"
   ]
  },
  {
   "cell_type": "code",
   "execution_count": 34,
   "id": "03dc08ca",
   "metadata": {},
   "outputs": [
    {
     "data": {
      "text/plain": [
       "<tf.Tensor: shape=(500,), dtype=int64, numpy=\n",
       "array([0, 0, 0, 0, 0, 0, 0, 0, 0, 0, 0, 0, 0, 0, 0, 0, 0, 0, 0, 0, 0, 0,\n",
       "       0, 0, 0, 0, 0, 0, 0, 0, 0, 0, 0, 0, 0, 0, 0, 0, 0, 0, 0, 0, 0, 0,\n",
       "       0, 0, 0, 0, 0, 0, 0, 0, 0, 0, 0, 0, 0, 0, 0, 0, 0, 0, 0, 0, 0, 0,\n",
       "       0, 0, 0, 0, 0, 0, 0, 0, 0, 0, 0, 0, 0, 0, 0, 0, 0, 0, 0, 0, 0, 0,\n",
       "       0, 0, 0, 0, 0, 0, 0, 0, 0, 0, 0, 0, 1, 1, 1, 1, 1, 1, 1, 1, 1, 1,\n",
       "       1, 1, 1, 1, 1, 1, 1, 1, 1, 1, 1, 1, 1, 1, 1, 1, 1, 1, 1, 1, 1, 1,\n",
       "       1, 1, 1, 1, 1, 1, 1, 1, 1, 1, 1, 1, 1, 1, 1, 1, 1, 1, 1, 1, 1, 1,\n",
       "       1, 1, 1, 1, 1, 1, 1, 1, 1, 1, 1, 1, 1, 1, 1, 1, 1, 1, 1, 1, 1, 1,\n",
       "       1, 1, 1, 1, 1, 1, 1, 1, 1, 1, 1, 1, 1, 1, 1, 1, 1, 1, 1, 1, 1, 1,\n",
       "       1, 1, 2, 2, 2, 2, 2, 2, 2, 2, 2, 2, 2, 2, 2, 2, 2, 2, 2, 2, 2, 2,\n",
       "       2, 2, 2, 2, 2, 2, 2, 2, 2, 2, 2, 2, 2, 2, 2, 2, 2, 2, 2, 2, 2, 2,\n",
       "       2, 2, 2, 2, 2, 2, 2, 2, 2, 2, 2, 2, 2, 2, 2, 2, 2, 2, 2, 2, 2, 2,\n",
       "       2, 2, 2, 2, 2, 2, 2, 2, 2, 2, 2, 2, 2, 2, 2, 2, 2, 2, 2, 2, 2, 2,\n",
       "       2, 2, 2, 2, 2, 2, 2, 2, 2, 2, 2, 2, 2, 2, 3, 3, 3, 3, 3, 3, 3, 3,\n",
       "       3, 3, 3, 3, 3, 3, 3, 3, 3, 3, 3, 3, 3, 3, 3, 3, 3, 3, 3, 3, 3, 3,\n",
       "       3, 3, 3, 3, 3, 3, 3, 3, 3, 3, 3, 3, 3, 3, 3, 3, 3, 3, 3, 3, 3, 3,\n",
       "       3, 3, 3, 3, 3, 3, 3, 3, 3, 3, 3, 3, 3, 3, 3, 3, 3, 3, 3, 3, 3, 3,\n",
       "       3, 3, 3, 3, 3, 3, 3, 3, 3, 3, 3, 3, 3, 3, 3, 3, 3, 3, 3, 3, 3, 3,\n",
       "       3, 3, 3, 3, 4, 4, 4, 4, 4, 4, 4, 4, 4, 4, 4, 4, 4, 4, 4, 4, 4, 4,\n",
       "       4, 4, 4, 4, 4, 4, 4, 4, 4, 4, 4, 4, 4, 4, 4, 4, 4, 4, 4, 4, 4, 4,\n",
       "       4, 4, 4, 4, 4, 4, 4, 4, 4, 4, 4, 4, 4, 4, 4, 4, 4, 4, 4, 4, 4, 4,\n",
       "       4, 4, 4, 4, 4, 4, 4, 4, 4, 4, 4, 4, 4, 4, 4, 4, 4, 4, 4, 4, 4, 4,\n",
       "       4, 4, 4, 4, 4, 4, 4, 4, 4, 4, 4, 4, 4, 4, 4, 4], dtype=int64)>"
      ]
     },
     "execution_count": 34,
     "metadata": {},
     "output_type": "execute_result"
    }
   ],
   "source": [
    "Y_true=tf.argmax(true_categories,axis=1)\n",
    "Y_true"
   ]
  },
  {
   "cell_type": "code",
   "execution_count": 35,
   "id": "7e24ed2e",
   "metadata": {},
   "outputs": [
    {
     "name": "stdout",
     "output_type": "stream",
     "text": [
      "              precision    recall  f1-score   support\n",
      "\n",
      "     Average       0.69      0.85      0.76       100\n",
      "         Bad       0.85      0.39      0.53       100\n",
      "   Excellent       0.86      0.12      0.21       100\n",
      "        Good       0.44      0.67      0.53       100\n",
      "       Worst       0.60      0.98      0.75       100\n",
      "\n",
      "    accuracy                           0.60       500\n",
      "   macro avg       0.69      0.60      0.56       500\n",
      "weighted avg       0.69      0.60      0.56       500\n",
      "\n"
     ]
    }
   ],
   "source": [
    "##presciss recall\n",
    "print(classification_report(Y_true,predicted_categories,target_names=class_name))\n"
   ]
  },
  {
   "cell_type": "code",
   "execution_count": 46,
   "id": "1d9602d5",
   "metadata": {},
   "outputs": [
    {
     "data": {
      "text/plain": [
       "array([[81,  2,  0, 17,  0],\n",
       "       [ 3, 87,  0,  0, 10],\n",
       "       [ 0,  0, 63, 37,  0],\n",
       "       [27,  0,  0, 73,  0],\n",
       "       [ 0, 34,  0,  0, 66]], dtype=int64)"
      ]
     },
     "execution_count": 46,
     "metadata": {},
     "output_type": "execute_result"
    }
   ],
   "source": [
    "#confusion_martix\n",
    "cm=confusion_matrix(Y_true,predicted_categories)\n",
    "cm\n"
   ]
  },
  {
   "cell_type": "code",
   "execution_count": 51,
   "id": "191e3efd",
   "metadata": {},
   "outputs": [
    {
     "data": {
      "image/png": "[encoded data removed]",
      "text/plain": [
       "<Figure size 640x480 with 2 Axes>"
      ]
     },
     "metadata": {},
     "output_type": "display_data"
    }
   ],
   "source": [
    "#confusion_martix visualization\n",
    "sns.heatmap(cm,annot=True)\n",
    "plt.xlabel(\"Predicted Class\",fontsize=20)\n",
    "plt.ylabel(\"Actual Class\",fontsize=20)\n",
    "plt.title(\"Plant Disease confusion martix\",fontsize=20)\n",
    "plt.show()"
   ]
  },
  {
   "cell_type": "code",
   "execution_count": null,
   "id": "ebe863db",
   "metadata": {},
   "outputs": [],
   "source": []
  }
 ],
 "metadata": {
  "kernelspec": {
   "display_name": "test_venv",
   "language": "python",
   "name": "test_venv"
  },
  "language_info": {
   "codemirror_mode": {
    "name": "ipython",
    "version": 3
   },
   "file_extension": ".py",
   "mimetype": "text/x-python",
   "name": "python",
   "nbconvert_exporter": "python",
   "pygments_lexer": "ipython3",
   "version": "3.10.11"
  }
 },
 "nbformat": 4,
 "nbformat_minor": 5
}
